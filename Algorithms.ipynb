{
 "cells": [
  {
   "cell_type": "code",
   "execution_count": 1,
   "id": "80ca7984",
   "metadata": {},
   "outputs": [],
   "source": [
    "import pandas as pd\n",
    "import numpy as np\n",
    "from sklearn.ensemble import RandomForestClassifier\n",
    "from sklearn.naive_bayes import GaussianNB\n",
    "from sklearn.tree import DecisionTreeClassifier\n",
    "from sklearn.ensemble import AdaBoostClassifier\n",
    "from sklearn.metrics import accuracy_score, precision_score, recall_score, f1_score, confusion_matrix\n",
    "from sklearn.model_selection import train_test_split\n",
    "from sklearn.model_selection import cross_val_score"
   ]
  },
  {
   "cell_type": "code",
   "execution_count": 2,
   "id": "0e3bdd39",
   "metadata": {},
   "outputs": [
    {
     "name": "stdout",
     "output_type": "stream",
     "text": [
      "        28.7967   16.0021  2.6449  0.3918  0.1982   27.7004    22.011  \\\n",
      "0       31.6036   11.7235  2.5185  0.5303  0.3773   26.2722   23.8238   \n",
      "1      162.0520  136.0310  4.0612  0.0374  0.0187  116.7410  -64.8580   \n",
      "2       23.8172    9.5728  2.3385  0.6147  0.3922   27.2107   -6.4633   \n",
      "3       75.1362   30.9205  3.1611  0.3168  0.1832   -5.5277   28.5525   \n",
      "4       51.6240   21.1502  2.9085  0.2420  0.1340   50.8761   43.1887   \n",
      "...         ...       ...     ...     ...     ...       ...       ...   \n",
      "19014   21.3846   10.9170  2.6161  0.5857  0.3934   15.2618   11.5245   \n",
      "19015   28.9452    6.7020  2.2672  0.5351  0.2784   37.0816   13.1853   \n",
      "19016   75.4455   47.5305  3.4483  0.1417  0.0549   -9.3561   41.0562   \n",
      "19017  120.5135   76.9018  3.9939  0.0944  0.0683    5.8043  -93.5224   \n",
      "19018  187.1814   53.0014  3.2093  0.2876  0.1539 -167.3125 -168.4558   \n",
      "\n",
      "       -8.2027   40.092   81.8828  g  \n",
      "0      -9.9574   6.3609  205.2610  g  \n",
      "1     -45.2160  76.9600  256.7880  g  \n",
      "2      -7.1513  10.4490  116.7370  g  \n",
      "3      21.8393   4.6480  356.4620  g  \n",
      "4       9.8145   3.6130  238.0980  g  \n",
      "...        ...      ...       ... ..  \n",
      "19014   2.8766   2.4229  106.8258  h  \n",
      "19015  -2.9632  86.7975  247.4560  h  \n",
      "19016  -9.4662  30.2987  256.5166  h  \n",
      "19017 -63.8389  84.6874  408.3166  h  \n",
      "19018  31.4755  52.7310  272.3174  h  \n",
      "\n",
      "[19019 rows x 11 columns]\n"
     ]
    }
   ],
   "source": [
    "data = pd.read_csv(r'C:\\Users\\pc\\Desktop\\Machine learning\\Assignment1 ML\\magic04.csv')\n",
    "print(data)\n",
    "\n",
    "#  Balance the dataset\n",
    "gamma_indices = data[data.iloc[:, -1] == 'g'].index\n",
    "hadron_indices = data[data.iloc[:, -1] == 'h'].index\n",
    "num_extra_gamma = len(gamma_indices) - len(hadron_indices)\n",
    "balanced_gamma_indices = np.random.choice(gamma_indices, size=len(hadron_indices), replace=True)\n",
    "\n",
    "balanced_indices = np.concatenate([balanced_gamma_indices, hadron_indices])\n",
    "balanced_data = data.iloc[balanced_indices]\n",
    "\n",
    "X = balanced_data.iloc[:, :-1]\n",
    "y = balanced_data.iloc[:, -1]\n",
    "\n",
    "#spilit data\n",
    "X_train, X_temp, y_train, y_temp = train_test_split(X, y, test_size=0.3, random_state=42)\n",
    "X_val, X_test, y_val, y_test = train_test_split(X_temp, y_temp, test_size=0.5, random_state=42)"
   ]
  },
  {
   "cell_type": "code",
   "execution_count": 5,
   "id": "79a5c119",
   "metadata": {},
   "outputs": [
    {
     "name": "stdout",
     "output_type": "stream",
     "text": [
      "Decision Tree:\n",
      "Accuracy of decision tree 0.8196312904833084\n",
      "precision of dt 0.8085714285714286\n",
      "F1 of dt 0.8242718446601942\n",
      "recall of dt 0.8405940594059406\n",
      "Confusion Matrix: [[849 161]\n",
      " [201 796]] \n",
      "\n"
     ]
    }
   ],
   "source": [
    "#Decision Tree classifier\n",
    "clf = DecisionTreeClassifier(random_state=42)\n",
    "# Train the classifier\n",
    "clf.fit(X_train, y_train)\n",
    "# Make predictions\n",
    "y_pred_dt= clf.predict(X_test)\n",
    "accuracy_dt = accuracy_score(y_test, y_pred_dt)\n",
    "precision_dt = precision_score(y_test, y_pred_dt, pos_label='g')\n",
    "recall_dt = recall_score(y_test, y_pred_dt, pos_label='g')\n",
    "f1_dt = f1_score(y_test, y_pred_dt, pos_label='g')\n",
    "confusion_dt = confusion_matrix(y_test, y_pred_dt)\n",
    "print(\"Decision Tree:\")\n",
    "print(\"Accuracy of decision tree\",accuracy_dt)\n",
    "print(\"precision of dt\",precision_dt)\n",
    "print(\"F1 of dt\",f1_dt)\n",
    "print(\"recall of dt\",recall_dt)\n",
    "print(\"Confusion Matrix:\",confusion_dt,\"\\n\")"
   ]
  },
  {
   "cell_type": "code",
   "execution_count": 7,
   "id": "73dda7f2",
   "metadata": {},
   "outputs": [
    {
     "name": "stdout",
     "output_type": "stream",
     "text": [
      "Naive Bayes: \n",
      "Accuracy of NB:  0.6532137518684604\n",
      "precision of NB:  0.6043882978723404\n",
      "F1 of NB:  0.7231503579952268\n",
      "recall of NB:  0.9\n",
      "Confusion Matrix:  [[909 101]\n",
      " [595 402]]\n"
     ]
    }
   ],
   "source": [
    "# Naive bayse\n",
    "nb_classifier = GaussianNB()\n",
    "# Train the classifier\n",
    "nb_classifier.fit(X_train, y_train)\n",
    "# Make predictions\n",
    "y_pred_NB= nb_classifier.predict(X_test)\n",
    "accuracy_NB = accuracy_score(y_test, y_pred_NB)\n",
    "precision_NB = precision_score(y_test, y_pred_NB, pos_label='g')\n",
    "recall_NB = recall_score(y_test, y_pred_NB, pos_label='g')\n",
    "f1_NB = f1_score(y_test, y_pred_NB, pos_label='g')\n",
    "confusion_NB = confusion_matrix(y_test, y_pred_NB)\n",
    "print(\"Naive Bayes: \")\n",
    "print(\"Accuracy of NB: \",accuracy_NB)\n",
    "print(\"precision of NB: \",precision_NB)\n",
    "print(\"F1 of NB: \",f1_NB)\n",
    "print(\"recall of NB: \",recall_NB)\n",
    "print(\"Confusion Matrix: \",confusion_NB)"
   ]
  },
  {
   "cell_type": "code",
   "execution_count": 9,
   "id": "ec5dc0aa",
   "metadata": {},
   "outputs": [
    {
     "name": "stdout",
     "output_type": "stream",
     "text": [
      "Random Forest: \n",
      "Accuracy of rf:  0.8784255107125062\n",
      "precision of rf:  0.8592870544090057\n",
      "F1 of rf:  0.882466281310212\n",
      "recall of rf:  0.906930693069307\n",
      "Confusion Matrix:  [[916  94]\n",
      " [150 847]]\n"
     ]
    }
   ],
   "source": [
    "#Randoomforest\n",
    "rf_classifier = RandomForestClassifier(n_estimators=100, random_state=42)\n",
    "# Train the classifier on the training data\n",
    "rf_classifier.fit(X_train, y_train)\n",
    "y_pred_rf=rf_classifier.predict(X_test)\n",
    "accuracy_rf = accuracy_score(y_test, y_pred_rf)\n",
    "precision_rf = precision_score(y_test, y_pred_rf, pos_label='g')\n",
    "recall_rf = recall_score(y_test, y_pred_rf, pos_label='g')\n",
    "f1_rf = f1_score(y_test, y_pred_rf, pos_label='g')\n",
    "confusion_rf = confusion_matrix(y_test, y_pred_rf)\n",
    "print(\"Random Forest: \")\n",
    "print(\"Accuracy of rf: \",accuracy_rf)\n",
    "print(\"precision of rf: \",precision_rf)\n",
    "print(\"F1 of rf: \",f1_rf)\n",
    "print(\"recall of rf: \",recall_rf)\n",
    "print(\"Confusion Matrix: \",confusion_rf)"
   ]
  },
  {
   "cell_type": "code",
   "execution_count": 12,
   "id": "aeba98bf",
   "metadata": {},
   "outputs": [
    {
     "name": "stdout",
     "output_type": "stream",
     "text": [
      "AdaBoost: \n",
      "Accuracy of adaboost:  0.7897359242650722\n",
      "precision of adaboost:  0.8037190082644629\n",
      "F1 of adaboost:  0.7866531850353893\n",
      "recall of adaboost:  0.7702970297029703\n",
      "Confusion Matrix:  [[778 232]\n",
      " [190 807]]\n"
     ]
    }
   ],
   "source": [
    "#Adaboost\n",
    "adaboost_clf = AdaBoostClassifier(n_estimators=50,algorithm='SAMME', random_state=42)\n",
    "# Train AdaBoost classifier\n",
    "adaboost_clf.fit(X_train, y_train)\n",
    "y_pred_adaboost=adaboost_clf.predict(X_test)\n",
    "accuracy = accuracy_score(y_test, y_pred_adaboost)\n",
    "precision = precision_score(y_test, y_pred_adaboost, pos_label='g')\n",
    "recall = recall_score(y_test, y_pred_adaboost, pos_label='g')\n",
    "f1 = f1_score(y_test, y_pred_adaboost, pos_label='g')\n",
    "confusion = confusion_matrix(y_test, y_pred_adaboost)\n",
    "print(\"AdaBoost: \")\n",
    "print(\"Accuracy of adaboost: \",accuracy)\n",
    "print(\"precision of adaboost: \",precision)\n",
    "print(\"F1 of adaboost: \",f1)\n",
    "print(\"recall of adaboost: \",recall)\n",
    "print(\"Confusion Matrix: \",confusion)"
   ]
  },
  {
   "cell_type": "code",
   "execution_count": 15,
   "id": "6794f4ae",
   "metadata": {},
   "outputs": [
    {
     "name": "stdout",
     "output_type": "stream",
     "text": [
      "Mean Accuracy for n_estimators=50: 0.8788130422027576\n",
      "Mean Accuracy for n_estimators=100: 0.8820275205006775\n",
      "Mean Accuracy for n_estimators=150: 0.8810556137630442\n",
      "Mean Accuracy for n_estimators=200: 0.8824013802159729\n"
     ]
    }
   ],
   "source": [
    "# Define a list of n_estimators values to evaluate\n",
    "n_estimators_values = [50, 100, 150, 200]\n",
    "cv_scores = []\n",
    "# Perform cross-validation for each n_estimators value\n",
    "for n_estimators in n_estimators_values:\n",
    "    rf_model = RandomForestClassifier(n_estimators=n_estimators)\n",
    "    scores = cross_val_score(rf_model, X, y, cv=5, scoring='accuracy')\n",
    "    cv_scores.append(scores.mean())\n",
    "for i, n_estimators in enumerate(n_estimators_values):\n",
    "    print(f\"Mean Accuracy for n_estimators={n_estimators}: {cv_scores[i]}\")\n",
    "#so the n_estimators has largest average of accuracy    "
   ]
  },
  {
   "cell_type": "code",
   "execution_count": 17,
   "id": "dad81360",
   "metadata": {},
   "outputs": [
    {
     "name": "stdout",
     "output_type": "stream",
     "text": [
      "Mean Accuracy for n_estimators=50: 0.7929874690918235\n",
      "Mean Accuracy for n_estimators=100: 0.803080619700208\n",
      "Mean Accuracy for n_estimators=150: 0.807192322199405\n",
      "Mean Accuracy for n_estimators=200: 0.8086876772418032\n"
     ]
    }
   ],
   "source": [
    "n_estimators_values = [50, 100, 150, 200]\n",
    "cv_scores = []\n",
    "for n_estimators in n_estimators_values:\n",
    "    adaboost_model = AdaBoostClassifier(n_estimators=n_estimators,algorithm='SAMME')\n",
    "    scores = cross_val_score(adaboost_model, X, y, cv=5, scoring='accuracy') \n",
    "    cv_scores.append(scores.mean())\n",
    "for i, n_estimators in enumerate(n_estimators_values):\n",
    "    print(f\"Mean Accuracy for n_estimators={n_estimators}: {cv_scores[i]}\")"
   ]
  },
  {
   "cell_type": "code",
   "execution_count": null,
   "id": "ec8b5dc9",
   "metadata": {},
   "outputs": [],
   "source": []
  }
 ],
 "metadata": {
  "kernelspec": {
   "display_name": "Python 3 (ipykernel)",
   "language": "python",
   "name": "python3"
  },
  "language_info": {
   "codemirror_mode": {
    "name": "ipython",
    "version": 3
   },
   "file_extension": ".py",
   "mimetype": "text/x-python",
   "name": "python",
   "nbconvert_exporter": "python",
   "pygments_lexer": "ipython3",
   "version": "3.11.5"
  }
 },
 "nbformat": 4,
 "nbformat_minor": 5
}
